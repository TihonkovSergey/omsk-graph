{
 "cells": [
  {
   "cell_type": "code",
   "execution_count": 12,
   "metadata": {},
   "outputs": [],
   "source": [
    "import osmnx as ox\n",
    "import random\n",
    "import lib\n",
    "import pandas as pd\n",
    "\n",
    "from ipywidgets import IntProgress\n",
    "from IPython.display import display"
   ]
  },
  {
   "cell_type": "code",
   "execution_count": 2,
   "metadata": {},
   "outputs": [],
   "source": [
    "G = lib.load()\n",
    "allHouses, allInfra = lib.getTaggedNodes(G)"
   ]
  },
  {
   "cell_type": "code",
   "execution_count": 3,
   "metadata": {},
   "outputs": [],
   "source": [
    "# 1.1 params\n",
    "speed = 40 # km/h\n",
    "\n",
    "houses = random.sample(allHouses, 100)\n",
    "infra = random.sample(allInfra, 10)"
   ]
  },
  {
   "cell_type": "code",
   "execution_count": 4,
   "metadata": {},
   "outputs": [
    {
     "data": {
      "application/vnd.jupyter.widget-view+json": {
       "model_id": "6b8250bcb0a64f24a25dac795220d89d",
       "version_major": 2,
       "version_minor": 0
      },
      "text/plain": [
       "IntProgress(value=0, max=110)"
      ]
     },
     "metadata": {},
     "output_type": "display_data"
    }
   ],
   "source": [
    "progress = IntProgress(min=0, max=len(houses) + len(infra), value=0)\n",
    "display(progress)\n",
    "\n",
    "def updateProgress():\n",
    "    progress.value += 1\n",
    "    progress.description = f'{progress.value}/{progress.max}'\n",
    "\n",
    "houseObjPaths = lib.getManyToManyPaths(G, houses, infra, speed, updateProgress)\n",
    "objHousePaths = lib.getManyToManyPaths(G, infra, houses, speed, updateProgress)\n",
    "roundPaths = {}\n",
    "\n",
    "# Make round paths form them\n",
    "for house in houses:\n",
    "    for obj in infra:\n",
    "        if(obj in houseObjPaths[house]) and (house in objHousePaths[obj]):\n",
    "            roundPaths[f\"{house}-{obj}\"] = lib.joinPaths(houseObjPaths[house][obj], objHousePaths[obj][house])\n",
    "            roundPaths[f\"{obj}-{house}\"] = lib.joinPaths(objHousePaths[obj][house], houseObjPaths[house][obj])\n",
    "        \n",
    "progress.bar_style = \"success\" "
   ]
  },
  {
   "cell_type": "code",
   "execution_count": 5,
   "metadata": {},
   "outputs": [],
   "source": [
    "houseClosestObj = {}\n",
    "for house in houseObjPaths:\n",
    "    shortestPath = {\"length\": float('inf')}\n",
    "    closestObj = None\n",
    "    for obj in houseObjPaths[house]:\n",
    "        if(houseObjPaths[house][obj]['length'] < shortestPath['length']):\n",
    "            shortestPath = houseObjPaths[house][obj]\n",
    "            closestObj = obj\n",
    "    \n",
    "    houseClosestObj[house] = closestObj"
   ]
  },
  {
   "cell_type": "code",
   "execution_count": 6,
   "metadata": {},
   "outputs": [],
   "source": [
    "objClosestHouse = {}\n",
    "for obj in infra:\n",
    "    shortestPath = {\"length\": float('inf')}\n",
    "    closestHouse = None\n",
    "    for house in objHousePaths[obj]:\n",
    "        if(objHousePaths[obj][house]['length'] < shortestPath['length']):\n",
    "            shortestPath = objHousePaths[obj][house]\n",
    "            closestHouse = house\n",
    "    \n",
    "    objClosestHouse[obj] = closestHouse"
   ]
  },
  {
   "cell_type": "code",
   "execution_count": 7,
   "metadata": {},
   "outputs": [],
   "source": [
    "shortestHouseObjRounds = {}\n",
    "for house in houseObjPaths:\n",
    "    shortestPath = {\"length\": float('inf')}\n",
    "    closestObj = None\n",
    "    for obj in houseObjPaths[house]:\n",
    "        if (f'{house}-{obj}' in roundPaths) and (roundPaths[f'{house}-{obj}']['length'] < shortestPath['length']):\n",
    "            shortestPath = roundPaths[f'{house}-{obj}']\n",
    "            closestObj = obj\n",
    "    \n",
    "    shortestHouseObjRounds[house] = closestObj"
   ]
  },
  {
   "cell_type": "code",
   "execution_count": 8,
   "metadata": {},
   "outputs": [
    {
     "name": "stdout",
     "output_type": "stream",
     "text": [
      "От узла\n"
     ]
    },
    {
     "data": {
      "text/html": [
       "<div>\n",
       "<style scoped>\n",
       "    .dataframe tbody tr th:only-of-type {\n",
       "        vertical-align: middle;\n",
       "    }\n",
       "\n",
       "    .dataframe tbody tr th {\n",
       "        vertical-align: top;\n",
       "    }\n",
       "\n",
       "    .dataframe thead th {\n",
       "        text-align: right;\n",
       "    }\n",
       "</style>\n",
       "<table border=\"1\" class=\"dataframe\">\n",
       "  <thead>\n",
       "    <tr style=\"text-align: right;\">\n",
       "      <th></th>\n",
       "      <th>0</th>\n",
       "    </tr>\n",
       "  </thead>\n",
       "  <tbody>\n",
       "    <tr>\n",
       "      <th>31629076</th>\n",
       "      <td>318785926</td>\n",
       "    </tr>\n",
       "    <tr>\n",
       "      <th>151694704</th>\n",
       "      <td>562432684</td>\n",
       "    </tr>\n",
       "    <tr>\n",
       "      <th>50624872</th>\n",
       "      <td>55962415</td>\n",
       "    </tr>\n",
       "    <tr>\n",
       "      <th>35278656</th>\n",
       "      <td>620943794</td>\n",
       "    </tr>\n",
       "    <tr>\n",
       "      <th>60446293</th>\n",
       "      <td>318785926</td>\n",
       "    </tr>\n",
       "    <tr>\n",
       "      <th>...</th>\n",
       "      <td>...</td>\n",
       "    </tr>\n",
       "    <tr>\n",
       "      <th>55962380</th>\n",
       "      <td>55962415</td>\n",
       "    </tr>\n",
       "    <tr>\n",
       "      <th>68528862</th>\n",
       "      <td>379348492</td>\n",
       "    </tr>\n",
       "    <tr>\n",
       "      <th>92027604</th>\n",
       "      <td>379348492</td>\n",
       "    </tr>\n",
       "    <tr>\n",
       "      <th>523223104</th>\n",
       "      <td>379348492</td>\n",
       "    </tr>\n",
       "    <tr>\n",
       "      <th>137185418</th>\n",
       "      <td>379348492</td>\n",
       "    </tr>\n",
       "  </tbody>\n",
       "</table>\n",
       "<p>100 rows × 1 columns</p>\n",
       "</div>"
      ],
      "text/plain": [
       "                   0\n",
       "31629076   318785926\n",
       "151694704  562432684\n",
       "50624872    55962415\n",
       "35278656   620943794\n",
       "60446293   318785926\n",
       "...              ...\n",
       "55962380    55962415\n",
       "68528862   379348492\n",
       "92027604   379348492\n",
       "523223104  379348492\n",
       "137185418  379348492\n",
       "\n",
       "[100 rows x 1 columns]"
      ]
     },
     "execution_count": 8,
     "metadata": {},
     "output_type": "execute_result"
    }
   ],
   "source": [
    "print(\"От узла\")\n",
    "pd.DataFrame.from_dict(houseClosestObj, orient=\"index\")"
   ]
  },
  {
   "cell_type": "code",
   "execution_count": 9,
   "metadata": {},
   "outputs": [
    {
     "name": "stdout",
     "output_type": "stream",
     "text": [
      "От объекта\n"
     ]
    },
    {
     "data": {
      "text/html": [
       "<div>\n",
       "<style scoped>\n",
       "    .dataframe tbody tr th:only-of-type {\n",
       "        vertical-align: middle;\n",
       "    }\n",
       "\n",
       "    .dataframe tbody tr th {\n",
       "        vertical-align: top;\n",
       "    }\n",
       "\n",
       "    .dataframe thead th {\n",
       "        text-align: right;\n",
       "    }\n",
       "</style>\n",
       "<table border=\"1\" class=\"dataframe\">\n",
       "  <thead>\n",
       "    <tr style=\"text-align: right;\">\n",
       "      <th></th>\n",
       "      <th>0</th>\n",
       "    </tr>\n",
       "  </thead>\n",
       "  <tbody>\n",
       "    <tr>\n",
       "      <th>49250798</th>\n",
       "      <td>49250795</td>\n",
       "    </tr>\n",
       "    <tr>\n",
       "      <th>303715218</th>\n",
       "      <td>45983721</td>\n",
       "    </tr>\n",
       "    <tr>\n",
       "      <th>318785926</th>\n",
       "      <td>55482784</td>\n",
       "    </tr>\n",
       "    <tr>\n",
       "      <th>379348492</th>\n",
       "      <td>59455700</td>\n",
       "    </tr>\n",
       "    <tr>\n",
       "      <th>55962415</th>\n",
       "      <td>55962380</td>\n",
       "    </tr>\n",
       "    <tr>\n",
       "      <th>562432684</th>\n",
       "      <td>105727047</td>\n",
       "    </tr>\n",
       "    <tr>\n",
       "      <th>47480330</th>\n",
       "      <td>103143685</td>\n",
       "    </tr>\n",
       "    <tr>\n",
       "      <th>55882077</th>\n",
       "      <td>45898733</td>\n",
       "    </tr>\n",
       "    <tr>\n",
       "      <th>541811596</th>\n",
       "      <td>45983721</td>\n",
       "    </tr>\n",
       "    <tr>\n",
       "      <th>620943794</th>\n",
       "      <td>45983721</td>\n",
       "    </tr>\n",
       "  </tbody>\n",
       "</table>\n",
       "</div>"
      ],
      "text/plain": [
       "                   0\n",
       "49250798    49250795\n",
       "303715218   45983721\n",
       "318785926   55482784\n",
       "379348492   59455700\n",
       "55962415    55962380\n",
       "562432684  105727047\n",
       "47480330   103143685\n",
       "55882077    45898733\n",
       "541811596   45983721\n",
       "620943794   45983721"
      ]
     },
     "execution_count": 9,
     "metadata": {},
     "output_type": "execute_result"
    }
   ],
   "source": [
    "print(\"От объекта\")\n",
    "pd.DataFrame.from_dict(objClosestHouse, orient=\"index\")"
   ]
  },
  {
   "cell_type": "code",
   "execution_count": 21,
   "metadata": {},
   "outputs": [
    {
     "name": "stdout",
     "output_type": "stream",
     "text": [
      "Туда обратно\n"
     ]
    },
    {
     "data": {
      "text/html": [
       "<div>\n",
       "<style scoped>\n",
       "    .dataframe tbody tr th:only-of-type {\n",
       "        vertical-align: middle;\n",
       "    }\n",
       "\n",
       "    .dataframe tbody tr th {\n",
       "        vertical-align: top;\n",
       "    }\n",
       "\n",
       "    .dataframe thead th {\n",
       "        text-align: right;\n",
       "    }\n",
       "</style>\n",
       "<table border=\"1\" class=\"dataframe\">\n",
       "  <thead>\n",
       "    <tr style=\"text-align: right;\">\n",
       "      <th></th>\n",
       "      <th>0</th>\n",
       "    </tr>\n",
       "  </thead>\n",
       "  <tbody>\n",
       "    <tr>\n",
       "      <th>31629076</th>\n",
       "      <td>318785926</td>\n",
       "    </tr>\n",
       "    <tr>\n",
       "      <th>151694704</th>\n",
       "      <td>562432684</td>\n",
       "    </tr>\n",
       "    <tr>\n",
       "      <th>50624872</th>\n",
       "      <td>55962415</td>\n",
       "    </tr>\n",
       "    <tr>\n",
       "      <th>35278656</th>\n",
       "      <td>620943794</td>\n",
       "    </tr>\n",
       "    <tr>\n",
       "      <th>60446293</th>\n",
       "      <td>318785926</td>\n",
       "    </tr>\n",
       "    <tr>\n",
       "      <th>...</th>\n",
       "      <td>...</td>\n",
       "    </tr>\n",
       "    <tr>\n",
       "      <th>55962380</th>\n",
       "      <td>55962415</td>\n",
       "    </tr>\n",
       "    <tr>\n",
       "      <th>68528862</th>\n",
       "      <td>379348492</td>\n",
       "    </tr>\n",
       "    <tr>\n",
       "      <th>92027604</th>\n",
       "      <td>379348492</td>\n",
       "    </tr>\n",
       "    <tr>\n",
       "      <th>523223104</th>\n",
       "      <td>379348492</td>\n",
       "    </tr>\n",
       "    <tr>\n",
       "      <th>137185418</th>\n",
       "      <td>379348492</td>\n",
       "    </tr>\n",
       "  </tbody>\n",
       "</table>\n",
       "<p>100 rows × 1 columns</p>\n",
       "</div>"
      ],
      "text/plain": [
       "                   0\n",
       "31629076   318785926\n",
       "151694704  562432684\n",
       "50624872    55962415\n",
       "35278656   620943794\n",
       "60446293   318785926\n",
       "...              ...\n",
       "55962380    55962415\n",
       "68528862   379348492\n",
       "92027604   379348492\n",
       "523223104  379348492\n",
       "137185418  379348492\n",
       "\n",
       "[100 rows x 1 columns]"
      ]
     },
     "execution_count": 21,
     "metadata": {},
     "output_type": "execute_result"
    }
   ],
   "source": [
    "print(\"Туда обратно\")\n",
    "pd.DataFrame.from_dict(shortestHouseObjRounds, orient=\"index\")"
   ]
  }
 ],
 "metadata": {
  "kernelspec": {
   "display_name": "Python 3",
   "language": "python",
   "name": "python3"
  },
  "language_info": {
   "codemirror_mode": {
    "name": "ipython",
    "version": 3
   },
   "file_extension": ".py",
   "mimetype": "text/x-python",
   "name": "python",
   "nbconvert_exporter": "python",
   "pygments_lexer": "ipython3",
   "version": "3.8.2"
  }
 },
 "nbformat": 4,
 "nbformat_minor": 4
}
