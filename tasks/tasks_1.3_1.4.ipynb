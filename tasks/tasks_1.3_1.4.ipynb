{
 "cells": [
  {
   "cell_type": "code",
   "execution_count": 1,
   "metadata": {
    "collapsed": true
   },
   "outputs": [],
   "source": [
    "from collections import defaultdict\n",
    "import random\n",
    "import lib"
   ]
  },
  {
   "cell_type": "code",
   "execution_count": 2,
   "outputs": [],
   "source": [
    "G = lib.load()\n",
    "allHouses, allInfra = lib.getTaggedNodes(G)"
   ],
   "metadata": {
    "collapsed": false,
    "pycharm": {
     "name": "#%%\n"
    }
   }
  },
  {
   "cell_type": "code",
   "execution_count": 3,
   "outputs": [],
   "source": [
    "# params\n",
    "speed = 40 # km/h\n",
    "maxTime = 20\n",
    "maxDistance = 2000\n",
    "\n",
    "houses = random.sample(allHouses, 100)\n",
    "infra = random.sample(allInfra, 10)"
   ],
   "metadata": {
    "collapsed": false,
    "pycharm": {
     "name": "#%%\n"
    }
   }
  },
  {
   "cell_type": "code",
   "execution_count": 4,
   "outputs": [
    {
     "name": "stdout",
     "output_type": "stream",
     "text": [
      "infra: 439972453, paths len= 1353068.4410000006, tree weight= 208116.98499999993\n",
      "infra: 344476301, paths len= 1076507.499, tree weight= 191607.086\n",
      "infra: 83801656, paths len= 1011014.856, tree weight= 185304.36600000018\n",
      "infra: 56753782, paths len= 857512.5550000004, tree weight= 190902.84400000007\n",
      "infra: 297928224, paths len= 1170806.9889999998, tree weight= 188425.24200000017\n",
      "infra: 87103115, paths len= 985517.0800000001, tree weight= 186976.2650000002\n",
      "infra: 152070524, paths len= 846809.269, tree weight= 178475.84400000004\n",
      "infra: 45982421, paths len= 884609.5979999999, tree weight= 179714.5310000001\n",
      "infra: 172243520, paths len= 962723.3380000001, tree weight= 184449.91999999978\n",
      "infra: 153303850, paths len= 891385.9310000001, tree weight= 191371.5420000001\n",
      "min paths length= 846809.269, infra obj: 152070524\n",
      "min tree weight= 178475.84400000004, infra obj: 152070524\n"
     ]
    }
   ],
   "source": [
    "infra_len_paths = defaultdict()\n",
    "infra_weight_tree = defaultdict()\n",
    "for obj in infra:\n",
    "    routes = lib.getFormSingleToManyPaths(G, obj, houses, speed)\n",
    "    length = sum(route['length'] for route in routes.values())\n",
    "    infra_len_paths[obj] = length\n",
    "    routes = [route['route'] for route in routes.values()]\n",
    "    tree = lib.routes_to_tree(G, routes)\n",
    "    infra_weight_tree[obj] = tree['weight']\n",
    "    print(f\"infra: {obj}, paths len= {length}, tree weight= {tree['weight']}\")\n",
    "house_min_weight = min(infra_weight_tree, key=infra_weight_tree.get)\n",
    "house_min_length = min(infra_len_paths, key=infra_len_paths.get)\n",
    "print(f\"min paths length= {infra_len_paths[house_min_length]}, infra obj: {house_min_length}\")\n",
    "print(f\"min tree weight= {infra_weight_tree[house_min_weight]}, infra obj: {house_min_weight}\")"
   ],
   "metadata": {
    "collapsed": false,
    "pycharm": {
     "name": "#%%\n"
    }
   }
  },
  {
   "cell_type": "code",
   "execution_count": null,
   "outputs": [],
   "source": [],
   "metadata": {
    "collapsed": false,
    "pycharm": {
     "name": "#%%\n"
    }
   }
  }
 ],
 "metadata": {
  "kernelspec": {
   "name": "sergey",
   "language": "python",
   "display_name": "sergey"
  },
  "language_info": {
   "codemirror_mode": {
    "name": "ipython",
    "version": 2
   },
   "file_extension": ".py",
   "mimetype": "text/x-python",
   "name": "python",
   "nbconvert_exporter": "python",
   "pygments_lexer": "ipython2",
   "version": "2.7.6"
  }
 },
 "nbformat": 4,
 "nbformat_minor": 0
}