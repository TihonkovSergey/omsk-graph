{
 "cells": [
  {
   "cell_type": "code",
   "execution_count": 1,
   "metadata": {},
   "outputs": [],
   "source": [
    "import json\n",
    "import geopandas as gpd\n",
    "import osmnx\n",
    "import shapely.wkt\n",
    "\n",
    "# Load preprocessed house\n",
    "with open('../getBuildings/filtered/apartments.json', encoding='utf-8') as f:\n",
    "    apartments=json.load(f)\n",
    "\n",
    "with open('../getBuildings/filtered/infra.json', encoding='utf-8') as f:\n",
    "    infra=json.load(f)\n",
    "\n",
    "nodes = gpd.read_file('data/sample/nodes/nodes.shp')\n",
    "edges = gpd.read_file('data/sample/edges/edges.shp')\n",
    "\n",
    "both = apartments + infra"
   ]
  },
  {
   "cell_type": "code",
   "execution_count": null,
   "metadata": {},
   "outputs": [],
   "source": []
  },
  {
   "cell_type": "code",
   "execution_count": 2,
   "metadata": {},
   "outputs": [],
   "source": [
    "for house in both:\n",
    "    if type(house['geometry']) == str:\n",
    "        house['geometry'] = shapely.wkt.loads(house['geometry'])\n",
    "\n",
    "houses = gpd.GeoDataFrame(both, crs='epsg:3857')\n",
    "houses['geometry'] = houses['geometry'].centroid\n",
    "houses['lon'] = houses['geometry'].apply(lambda p: p.x)\n",
    "houses['lat'] = houses['geometry'].apply(lambda p: p.y)\n",
    "\n",
    "nodes['lon'] = nodes['geometry'].apply(lambda p: p.x)\n",
    "nodes['lat'] = nodes['geometry'].apply(lambda p: p.y)"
   ]
  },
  {
   "cell_type": "code",
   "execution_count": 3,
   "metadata": {},
   "outputs": [],
   "source": [
    "# %%time\n",
    "# def min_dist1(point, nodes):\n",
    "#     nodes['tmp.dist'] = nodes.apply(lambda row:  point.distance(row.geometry),axis=1)\n",
    "#     geoseries = nodes.iloc[nodes['tmp.dist'].argmin()]\n",
    "#     nodes.drop('tmp.dist', 1, inplace=True)\n",
    "    \n",
    "#     return geoseries['osmid']\n",
    "\n",
    "# houses['closest'] = houses.head(5)['geometry'].apply(lambda p: min_dist1(p, nodes))"
   ]
  },
  {
   "cell_type": "code",
   "execution_count": 4,
   "metadata": {},
   "outputs": [],
   "source": [
    "# %%time\n",
    "# def min_dist(houses, nodes):\n",
    "#     for index, house in houses.iterrows():\n",
    "#         hloc = house['geometry']\n",
    "        \n",
    "#         closest = 0\n",
    "#         minD =1 # hloc.distance(nodes['geometry'][0])\n",
    "        \n",
    "#         for nidx, node in nodes.iterrows():\n",
    "#             d = 5 #hloc.distance(node['geometry'])\n",
    "#             if(d < minD):\n",
    "#                 closest = nidx\n",
    "                \n",
    "#         print(index, closest)\n",
    "\n",
    "#     return\n",
    "\n",
    "# min_dist(houses.head(5), nodes)"
   ]
  },
  {
   "cell_type": "code",
   "execution_count": 8,
   "metadata": {},
   "outputs": [],
   "source": [
    "houses.to_csv('houses.csv')\n",
    "nodes.to_csv('nodes.csv')"
   ]
  },
  {
   "cell_type": "code",
   "execution_count": 6,
   "metadata": {},
   "outputs": [],
   "source": [
    "# %%time\n",
    "# one = houses.head(2)['geometry'].apply(lambda p: min_dist2(p, nodes))"
   ]
  },
  {
   "cell_type": "code",
   "execution_count": null,
   "metadata": {},
   "outputs": [],
   "source": []
  },
  {
   "cell_type": "code",
   "execution_count": null,
   "metadata": {},
   "outputs": [],
   "source": []
  }
 ],
 "metadata": {
  "kernelspec": {
   "display_name": "Python 3",
   "language": "python",
   "name": "python3"
  },
  "language_info": {
   "codemirror_mode": {
    "name": "ipython",
    "version": 3
   },
   "file_extension": ".py",
   "mimetype": "text/x-python",
   "name": "python",
   "nbconvert_exporter": "python",
   "pygments_lexer": "ipython3",
   "version": "3.8.2"
  }
 },
 "nbformat": 4,
 "nbformat_minor": 4
}
