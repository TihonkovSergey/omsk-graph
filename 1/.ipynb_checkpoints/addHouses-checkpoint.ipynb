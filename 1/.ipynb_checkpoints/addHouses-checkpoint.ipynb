{
 "cells": [
  {
   "cell_type": "code",
   "execution_count": 1,
   "metadata": {},
   "outputs": [],
   "source": [
    "import json\n",
    "import geopandas as gpd\n",
    "import connectPOI\n",
    "\n",
    "# Load preprocessed house\n",
    "with open('../getBuildings/filtered/apartments.json', encoding='utf-8') as f:\n",
    "    apartments=json.load(f)\n",
    "\n",
    "with open('../getBuildings/filtered/infra.json', encoding='utf-8') as f:\n",
    "    infra=json.load(f)\n",
    "    \n",
    "nodes = gpd.read_file('data/sample/nodes/nodes.shp')\n",
    "edges = gpd.read_file('data/sample/edges/edges.shp')\n",
    "\n",
    "both = apartments + infra"
   ]
  },
  {
   "cell_type": "code",
   "execution_count": 2,
   "metadata": {},
   "outputs": [
    {
     "ename": "SyntaxError",
     "evalue": "invalid syntax (<ipython-input-2-542c190b84b8>, line 4)",
     "output_type": "error",
     "traceback": [
      "\u001b[1;36m  File \u001b[1;32m\"<ipython-input-2-542c190b84b8>\"\u001b[1;36m, line \u001b[1;32m4\u001b[0m\n\u001b[1;33m    houses = gpd.GeoDataFrame(both).\u001b[0m\n\u001b[1;37m                                    ^\u001b[0m\n\u001b[1;31mSyntaxError\u001b[0m\u001b[1;31m:\u001b[0m invalid syntax\n"
     ]
    }
   ],
   "source": [
    "# for house in both:\n",
    "#     house['geometry'] = shape(house['geometry'])\n",
    "\n",
    "houses = gpd.GeoDataFrame(both)\n",
    "\n",
    "houses.plot()"
   ]
  },
  {
   "cell_type": "code",
   "execution_count": null,
   "metadata": {},
   "outputs": [],
   "source": [
    "# new_nodes, new_edges = connect_poi(houses, nodes, edges, key_col='id', path=None)"
   ]
  },
  {
   "cell_type": "code",
   "execution_count": null,
   "metadata": {},
   "outputs": [],
   "source": [
    "# print(new_nodes, new_edges)"
   ]
  },
  {
   "cell_type": "code",
   "execution_count": null,
   "metadata": {},
   "outputs": [],
   "source": []
  }
 ],
 "metadata": {
  "kernelspec": {
   "display_name": "Python 3",
   "language": "python",
   "name": "python3"
  },
  "language_info": {
   "codemirror_mode": {
    "name": "ipython",
    "version": 3
   },
   "file_extension": ".py",
   "mimetype": "text/x-python",
   "name": "python",
   "nbconvert_exporter": "python",
   "pygments_lexer": "ipython3",
   "version": "3.8.2"
  }
 },
 "nbformat": 4,
 "nbformat_minor": 4
}
