{
 "cells": [
  {
   "cell_type": "code",
   "execution_count": 1,
   "metadata": {},
   "outputs": [],
   "source": [
    "import osmnx as ox\n",
    "import networkx as nx\n",
    "import json\n",
    "import numpy as np\n",
    "import random\n",
    "\n",
    "from ipywidgets import IntProgress\n",
    "from IPython.display import display"
   ]
  },
  {
   "cell_type": "code",
   "execution_count": 2,
   "metadata": {},
   "outputs": [],
   "source": [
    "# lib.graph.load\n",
    "G = ox.save_load.load_graphml('../../prepare/data/city.graphml')"
   ]
  },
  {
   "cell_type": "code",
   "execution_count": 3,
   "metadata": {},
   "outputs": [],
   "source": [
    "# lib.graph.nodes\n",
    "allTagged = G.nodes(data=\"tag\")\n",
    "\n",
    "allHouses = []\n",
    "allInfra = []\n",
    "\n",
    "for (key, tag) in allTagged:\n",
    "    # Check if key is even then add pair to new dictionary\n",
    "    if tag == \"apartments\":\n",
    "        allHouses.append(key)\n",
    "    if tag == \"fire_station\":\n",
    "        allInfra.append(key)\n",
    "    if tag == \"hospital\":\n",
    "        allInfra.append(key)\n",
    "    if tag == \"shop\":\n",
    "        allInfra.append(key)"
   ]
  },
  {
   "cell_type": "code",
   "execution_count": 4,
   "metadata": {},
   "outputs": [],
   "source": [
    "# lib.paths\n",
    "\n",
    "def getPath(G, start, end): \n",
    "    route = nx.dijkstra_path(G, start, end, \"length\")\n",
    "    length = 0 # meters\n",
    "    time = 0 # minutes\n",
    "\n",
    "    for i in range(1, len(route)):\n",
    "        edge = G[route[i - 1]][route[i]][0]\n",
    "        length += edge['length']\n",
    "    \n",
    "    time = length / (speed / 3.6) / 60\n",
    "    \n",
    "    return {\n",
    "        \"route\": route, \n",
    "        \"length\": length, \n",
    "        \"time\": time\n",
    "    }\n",
    "\n",
    "def joinPaths(a, b): \n",
    "    return {\n",
    "        \"route\": a['route'] + b['route'],\n",
    "        \"length\": a['length'] + b['length'],\n",
    "        \"time\": a['time'] + b['time']\n",
    "    }"
   ]
  },
  {
   "cell_type": "code",
   "execution_count": 21,
   "metadata": {},
   "outputs": [],
   "source": [
    "# 1.1 params\n",
    "speed = 40 # km/h\n",
    "\n",
    "houses = random.sample(allHouses, 100)\n",
    "infra = random.sample(allInfra, 10)"
   ]
  },
  {
   "cell_type": "code",
   "execution_count": 22,
   "metadata": {},
   "outputs": [
    {
     "data": {
      "application/vnd.jupyter.widget-view+json": {
       "model_id": "ede86dec96e344a4aff8c3d26e392237",
       "version_major": 2,
       "version_minor": 0
      },
      "text/plain": [
       "IntProgress(value=0, max=1000)"
      ]
     },
     "metadata": {},
     "output_type": "display_data"
    }
   ],
   "source": [
    "houseObjPaths = {}\n",
    "objHousePaths = {}\n",
    "roundPaths = {}\n",
    "\n",
    "i = 0\n",
    "progress = IntProgress(min=0, max=len(houses) * len(infra), value=0)\n",
    "display(progress)\n",
    "\n",
    "for house in houses:\n",
    "    for obj in infra:\n",
    "        progress.value += 1\n",
    "        progress.description = f'{progress.value}/{progress.max}'\n",
    "        \n",
    "        # Add missing dicts if needed\n",
    "        if not house in houseObjPaths:\n",
    "            houseObjPaths[house] = {}\n",
    "\n",
    "        if not obj in objHousePaths:\n",
    "            objHousePaths[obj] = {}\n",
    "\n",
    "        # calculate paths\n",
    "        houseObjPaths[house][obj] = getPath(G, house, obj)\n",
    "        objHousePaths[obj][house] = getPath(G, obj, house)\n",
    "        \n",
    "        # make round paths form them\n",
    "        roundPaths[f\"{house}-{obj}\"] = joinPaths(houseObjPaths[house][obj], objHousePaths[obj][house])\n",
    "        roundPaths[f\"{obj}-{house}\"] = joinPaths(objHousePaths[obj][house], houseObjPaths[house][obj])\n",
    "        \n",
    "progress.bar_style = \"success\" "
   ]
  },
  {
   "cell_type": "code",
   "execution_count": 24,
   "metadata": {},
   "outputs": [],
   "source": [
    "houseClosestObj = {}\n",
    "for house in houseObjPaths:\n",
    "    shortestPath = {\"length\": float('inf')}\n",
    "    closestObj = None\n",
    "    for obj in houseObjPaths[house]:\n",
    "        if(houseObjPaths[house][obj]['length'] < shortestPath['length']):\n",
    "            shortestPath = houseObjPaths[house][obj]\n",
    "            closestObj = obj\n",
    "    \n",
    "    houseClosestObj[house] = closestObj"
   ]
  },
  {
   "cell_type": "code",
   "execution_count": 26,
   "metadata": {},
   "outputs": [],
   "source": [
    "objClosestHouse = {}\n",
    "for obj in infra:\n",
    "    shortestPath = {\"length\": float('inf')}\n",
    "    closestHouse = None\n",
    "    for house in objHousePaths[obj]:\n",
    "        if(objHousePaths[obj][house]['length'] < shortestPath['length']):\n",
    "            shortestPath = objHousePaths[obj][house]\n",
    "            closestHouse = house\n",
    "    \n",
    "    objClosestHouse[obj] = closestHouse"
   ]
  },
  {
   "cell_type": "code",
   "execution_count": 9,
   "metadata": {},
   "outputs": [
    {
     "data": {
      "text/plain": [
       "{49324896: 375885158,\n",
       " 54846895: 375885158,\n",
       " 338574197: 375885158,\n",
       " 52096664: 375885158,\n",
       " 35223117: 375885158,\n",
       " 80584829: 375885158,\n",
       " 149334841: 375885158,\n",
       " 345689586: 375885158,\n",
       " 92027534: 375885158,\n",
       " 55351000: 375885158}"
      ]
     },
     "execution_count": 9,
     "metadata": {},
     "output_type": "execute_result"
    }
   ],
   "source": [
    "shortestHouseObjRounds = {}\n",
    "for house in houseObjPaths:\n",
    "    shortestPath = {\"length\": float('inf')}\n",
    "    closestObj = None\n",
    "    for obj in houseObjPaths[house]:\n",
    "        if(roundPaths[f'{house}-{obj}']['length'] < shortestPath['length']):\n",
    "            shortestPath = roundPaths[f'{house}-{obj}']\n",
    "            closestObj = obj\n",
    "    \n",
    "    shortestHouseObjRounds[house] = closestObj"
   ]
  },
  {
   "cell_type": "code",
   "execution_count": 10,
   "metadata": {},
   "outputs": [],
   "source": [
    "# for house in houses:\n",
    "#     obj = houseClosestObj[house]\n",
    "#     ox.plot_graph_route(G, houseObjPaths[house][obj]['route'], edge_linewidth=0.1, node_size=0.2)"
   ]
  },
  {
   "cell_type": "code",
   "execution_count": null,
   "metadata": {},
   "outputs": [],
   "source": []
  }
 ],
 "metadata": {
  "kernelspec": {
   "display_name": "Python 3",
   "language": "python",
   "name": "python3"
  },
  "language_info": {
   "codemirror_mode": {
    "name": "ipython",
    "version": 3
   },
   "file_extension": ".py",
   "mimetype": "text/x-python",
   "name": "python",
   "nbconvert_exporter": "python",
   "pygments_lexer": "ipython3",
   "version": "3.8.2"
  }
 },
 "nbformat": 4,
 "nbformat_minor": 4
}
