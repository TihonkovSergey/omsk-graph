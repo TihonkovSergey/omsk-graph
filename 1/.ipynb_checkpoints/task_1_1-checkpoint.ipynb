{
 "cells": [
  {
   "cell_type": "code",
   "execution_count": 1,
   "metadata": {},
   "outputs": [],
   "source": [
    "import osmnx as ox\n",
    "import networkx as nx\n",
    "import json\n",
    "import numpy as np\n",
    "import random\n",
    "\n",
    "from ipywidgets import IntProgress\n",
    "from IPython.display import display"
   ]
  },
  {
   "cell_type": "code",
   "execution_count": 2,
   "metadata": {},
   "outputs": [],
   "source": [
    "# lib.graph.load\n",
    "G = ox.save_load.load_graphml('../../prepare/data/city.graphml')"
   ]
  },
  {
   "cell_type": "code",
   "execution_count": 3,
   "metadata": {},
   "outputs": [],
   "source": [
    "# lib.graph.nodes\n",
    "allTagged = G.nodes(data=\"tag\")\n",
    "\n",
    "allHouses = []\n",
    "allInfra = []\n",
    "\n",
    "for (key, tag) in allTagged:\n",
    "    # Check if key is even then add pair to new dictionary\n",
    "    if tag == \"apartments\":\n",
    "        allHouses.append(key)\n",
    "    if tag == \"fire_station\":\n",
    "        allInfra.append(key)\n",
    "    if tag == \"hospital\":\n",
    "        allInfra.append(key)\n",
    "    if tag == \"shop\":\n",
    "        allInfra.append(key)"
   ]
  },
  {
   "cell_type": "code",
   "execution_count": 32,
   "metadata": {},
   "outputs": [],
   "source": [
    "# lib.paths\n",
    "\n",
    "def route2Path(G, route):\n",
    "    length = 0 # meters\n",
    "    time = 0 # minutes\n",
    "\n",
    "    for i in range(1, len(route)):\n",
    "        edge = G[route[i - 1]][route[i]][0]\n",
    "        length += edge['length']\n",
    "    \n",
    "    time = length / (speed / 3.6) / 60\n",
    "    \n",
    "    return {\n",
    "        \"route\": route, \n",
    "        \"length\": length, \n",
    "        \"time\": time\n",
    "    }\n",
    "\n",
    "def getPath(G, start, end):     \n",
    "    return route2Path(G, nx.dijkstra_path(G, start, end, \"length\"))\n",
    "\n",
    "def joinPaths(a, b): \n",
    "    return {\n",
    "        \"route\": a['route'] + b['route'],\n",
    "        \"length\": a['length'] + b['length'],\n",
    "        \"time\": a['time'] + b['time']\n",
    "    }"
   ]
  },
  {
   "cell_type": "code",
   "execution_count": 33,
   "metadata": {},
   "outputs": [],
   "source": [
    "# 1.1 params\n",
    "speed = 40 # km/h\n",
    "\n",
    "houses = random.sample(allHouses, 100)\n",
    "infra = random.sample(allInfra, 10)"
   ]
  },
  {
   "cell_type": "code",
   "execution_count": 42,
   "metadata": {},
   "outputs": [
    {
     "data": {
      "application/vnd.jupyter.widget-view+json": {
       "model_id": "0de4d28908bc416cad09510370126d61",
       "version_major": 2,
       "version_minor": 0
      },
      "text/plain": [
       "IntProgress(value=0, max=110)"
      ]
     },
     "metadata": {},
     "output_type": "display_data"
    }
   ],
   "source": [
    "houseObjPaths = {}\n",
    "objHousePaths = {}\n",
    "roundPaths = {}\n",
    "\n",
    "i = 0\n",
    "progress = IntProgress(min=0, max=len(houses) + len(infra), value=0)\n",
    "display(progress)\n",
    "\n",
    "# Find all house -> obj paths\n",
    "for house in houses:\n",
    "    _, paths = nx.single_source_dijkstra(G, house, weight=\"length\")\n",
    "    \n",
    "    progress.value += 1\n",
    "    progress.description = f'{progress.value}/{progress.max}'\n",
    "    \n",
    "    houseObjPaths[house] = {}\n",
    "    for obj in infra:\n",
    "        houseObjPaths[house][obj] = route2Path(G, paths[obj])\n",
    "\n",
    "# Find all obj -> house paths\n",
    "for obj in infra:\n",
    "    _, paths = nx.single_source_dijkstra(G, obj, weight=\"length\")\n",
    "    \n",
    "    progress.value += 1\n",
    "    progress.description = f'{progress.value}/{progress.max}'\n",
    "    \n",
    "    objHousePaths[obj] = {}   \n",
    "    for house in houses:\n",
    "        if(house in paths):\n",
    "            objHousePaths[obj][house] = route2Path(G, paths[house])\n",
    "\n",
    "# Make round paths form them\n",
    "for house in houses:\n",
    "    for obj in infra:\n",
    "        if(obj in houseObjPaths[house]) and (house in objHousePaths[obj]):\n",
    "            roundPaths[f\"{house}-{obj}\"] = joinPaths(houseObjPaths[house][obj], objHousePaths[obj][house])\n",
    "            roundPaths[f\"{obj}-{house}\"] = joinPaths(objHousePaths[obj][house], houseObjPaths[house][obj])\n",
    "        \n",
    "progress.bar_style = \"success\" "
   ]
  },
  {
   "cell_type": "code",
   "execution_count": 43,
   "metadata": {},
   "outputs": [],
   "source": [
    "houseClosestObj = {}\n",
    "for house in houseObjPaths:\n",
    "    shortestPath = {\"length\": float('inf')}\n",
    "    closestObj = None\n",
    "    for obj in houseObjPaths[house]:\n",
    "        if(houseObjPaths[house][obj]['length'] < shortestPath['length']):\n",
    "            shortestPath = houseObjPaths[house][obj]\n",
    "            closestObj = obj\n",
    "    \n",
    "    houseClosestObj[house] = closestObj"
   ]
  },
  {
   "cell_type": "code",
   "execution_count": 44,
   "metadata": {},
   "outputs": [],
   "source": [
    "objClosestHouse = {}\n",
    "for obj in infra:\n",
    "    shortestPath = {\"length\": float('inf')}\n",
    "    closestHouse = None\n",
    "    for house in objHousePaths[obj]:\n",
    "        if(objHousePaths[obj][house]['length'] < shortestPath['length']):\n",
    "            shortestPath = objHousePaths[obj][house]\n",
    "            closestHouse = house\n",
    "    \n",
    "    objClosestHouse[obj] = closestHouse"
   ]
  },
  {
   "cell_type": "code",
   "execution_count": 47,
   "metadata": {},
   "outputs": [],
   "source": [
    "shortestHouseObjRounds = {}\n",
    "for house in houseObjPaths:\n",
    "    shortestPath = {\"length\": float('inf')}\n",
    "    closestObj = None\n",
    "    for obj in houseObjPaths[house]:\n",
    "        if (f'{house}-{obj}' in roundPaths) and (roundPaths[f'{house}-{obj}']['length'] < shortestPath['length']):\n",
    "            shortestPath = roundPaths[f'{house}-{obj}']\n",
    "            closestObj = obj\n",
    "    \n",
    "    shortestHouseObjRounds[house] = closestObj"
   ]
  },
  {
   "cell_type": "code",
   "execution_count": 49,
   "metadata": {},
   "outputs": [],
   "source": [
    "# for house in houses:\n",
    "#     obj = houseClosestObj[house]\n",
    "#     ox.plot_graph_route(G, houseObjPaths[house][obj]['route'], edge_linewidth=0.1, node_size=0.2)"
   ]
  },
  {
   "cell_type": "code",
   "execution_count": null,
   "metadata": {},
   "outputs": [],
   "source": []
  }
 ],
 "metadata": {
  "kernelspec": {
   "display_name": "Python 3",
   "language": "python",
   "name": "python3"
  },
  "language_info": {
   "codemirror_mode": {
    "name": "ipython",
    "version": 3
   },
   "file_extension": ".py",
   "mimetype": "text/x-python",
   "name": "python",
   "nbconvert_exporter": "python",
   "pygments_lexer": "ipython3",
   "version": "3.8.2"
  }
 },
 "nbformat": 4,
 "nbformat_minor": 4
}
